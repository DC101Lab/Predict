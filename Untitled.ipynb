{
 "cells": [
  {
   "cell_type": "code",
   "execution_count": 1,
   "metadata": {},
   "outputs": [],
   "source": [
    "import quandl\n",
    "import pandas as pd\n",
    "import numpy as np\n",
    "import datetime\n",
    "\n",
    "from sklearn.linear_model import LinearRegression\n",
    "from sklearn import preprocessing, svm\n",
    "from sklearn import metrics\n",
    "from sklearn.model_selection import train_test_split\n"
   ]
  },
  {
   "cell_type": "code",
   "execution_count": 2,
   "metadata": {},
   "outputs": [],
   "source": [
    "he = quandl.get(\"GDAX/ETH_EUR\", authtoken=\"C5CQZuxZM7EbJvzMBGhm\")"
   ]
  },
  {
   "cell_type": "code",
   "execution_count": 3,
   "metadata": {},
   "outputs": [],
   "source": [
    "df = he"
   ]
  },
  {
   "cell_type": "code",
   "execution_count": 4,
   "metadata": {},
   "outputs": [
    {
     "data": {
      "text/html": [
       "<div>\n",
       "<style scoped>\n",
       "    .dataframe tbody tr th:only-of-type {\n",
       "        vertical-align: middle;\n",
       "    }\n",
       "\n",
       "    .dataframe tbody tr th {\n",
       "        vertical-align: top;\n",
       "    }\n",
       "\n",
       "    .dataframe thead th {\n",
       "        text-align: right;\n",
       "    }\n",
       "</style>\n",
       "<table border=\"1\" class=\"dataframe\">\n",
       "  <thead>\n",
       "    <tr style=\"text-align: right;\">\n",
       "      <th></th>\n",
       "      <th>Open</th>\n",
       "      <th>High</th>\n",
       "      <th>Low</th>\n",
       "      <th>Volume</th>\n",
       "    </tr>\n",
       "    <tr>\n",
       "      <th>Date</th>\n",
       "      <th></th>\n",
       "      <th></th>\n",
       "      <th></th>\n",
       "      <th></th>\n",
       "    </tr>\n",
       "  </thead>\n",
       "  <tbody>\n",
       "    <tr>\n",
       "      <th>2017-05-30</th>\n",
       "      <td>179.46</td>\n",
       "      <td>201.56</td>\n",
       "      <td>179.46</td>\n",
       "      <td>563.574044</td>\n",
       "    </tr>\n",
       "    <tr>\n",
       "      <th>2017-05-31</th>\n",
       "      <td>201.49</td>\n",
       "      <td>210.31</td>\n",
       "      <td>192.10</td>\n",
       "      <td>1823.492476</td>\n",
       "    </tr>\n",
       "    <tr>\n",
       "      <th>2017-06-01</th>\n",
       "      <td>205.00</td>\n",
       "      <td>211.20</td>\n",
       "      <td>180.00</td>\n",
       "      <td>4272.726510</td>\n",
       "    </tr>\n",
       "    <tr>\n",
       "      <th>2017-06-02</th>\n",
       "      <td>192.34</td>\n",
       "      <td>204.54</td>\n",
       "      <td>192.34</td>\n",
       "      <td>1890.842875</td>\n",
       "    </tr>\n",
       "    <tr>\n",
       "      <th>2017-06-03</th>\n",
       "      <td>197.00</td>\n",
       "      <td>201.22</td>\n",
       "      <td>196.52</td>\n",
       "      <td>604.755356</td>\n",
       "    </tr>\n",
       "  </tbody>\n",
       "</table>\n",
       "</div>"
      ],
      "text/plain": [
       "              Open    High     Low       Volume\n",
       "Date                                           \n",
       "2017-05-30  179.46  201.56  179.46   563.574044\n",
       "2017-05-31  201.49  210.31  192.10  1823.492476\n",
       "2017-06-01  205.00  211.20  180.00  4272.726510\n",
       "2017-06-02  192.34  204.54  192.34  1890.842875\n",
       "2017-06-03  197.00  201.22  196.52   604.755356"
      ]
     },
     "execution_count": 4,
     "metadata": {},
     "output_type": "execute_result"
    }
   ],
   "source": [
    "df.head()"
   ]
  },
  {
   "cell_type": "code",
   "execution_count": 5,
   "metadata": {},
   "outputs": [
    {
     "data": {
      "text/plain": [
       "[<matplotlib.lines.Line2D at 0x7f68c56dbda0>]"
      ]
     },
     "execution_count": 5,
     "metadata": {},
     "output_type": "execute_result"
    }
   ],
   "source": [
    "import numpy as np\n",
    "import matplotlib.pyplot as plt\n",
    "\n",
    "t1 = df['Open']\n",
    "\n",
    "plt.plot(t1)"
   ]
  },
  {
   "cell_type": "code",
   "execution_count": 6,
   "metadata": {},
   "outputs": [],
   "source": [
    "df = df[['Open']]"
   ]
  },
  {
   "cell_type": "code",
   "execution_count": 7,
   "metadata": {},
   "outputs": [
    {
     "name": "stdout",
     "output_type": "stream",
     "text": [
      "<class 'pandas.core.frame.DataFrame'>\n",
      "DatetimeIndex: 473 entries, 2017-05-30 to 2018-12-29\n",
      "Data columns (total 1 columns):\n",
      "Open    473 non-null float64\n",
      "dtypes: float64(1)\n",
      "memory usage: 7.4 KB\n"
     ]
    }
   ],
   "source": [
    "df.info()"
   ]
  },
  {
   "cell_type": "code",
   "execution_count": 8,
   "metadata": {},
   "outputs": [
    {
     "data": {
      "text/html": [
       "<div>\n",
       "<style scoped>\n",
       "    .dataframe tbody tr th:only-of-type {\n",
       "        vertical-align: middle;\n",
       "    }\n",
       "\n",
       "    .dataframe tbody tr th {\n",
       "        vertical-align: top;\n",
       "    }\n",
       "\n",
       "    .dataframe thead th {\n",
       "        text-align: right;\n",
       "    }\n",
       "</style>\n",
       "<table border=\"1\" class=\"dataframe\">\n",
       "  <thead>\n",
       "    <tr style=\"text-align: right;\">\n",
       "      <th></th>\n",
       "      <th>Open</th>\n",
       "    </tr>\n",
       "    <tr>\n",
       "      <th>Date</th>\n",
       "      <th></th>\n",
       "    </tr>\n",
       "  </thead>\n",
       "  <tbody>\n",
       "    <tr>\n",
       "      <th>2018-12-15</th>\n",
       "      <td>74.07</td>\n",
       "    </tr>\n",
       "    <tr>\n",
       "      <th>2018-12-16</th>\n",
       "      <td>74.10</td>\n",
       "    </tr>\n",
       "    <tr>\n",
       "      <th>2018-12-17</th>\n",
       "      <td>74.64</td>\n",
       "    </tr>\n",
       "    <tr>\n",
       "      <th>2018-12-19</th>\n",
       "      <td>84.50</td>\n",
       "    </tr>\n",
       "    <tr>\n",
       "      <th>2018-12-29</th>\n",
       "      <td>117.32</td>\n",
       "    </tr>\n",
       "  </tbody>\n",
       "</table>\n",
       "</div>"
      ],
      "text/plain": [
       "              Open\n",
       "Date              \n",
       "2018-12-15   74.07\n",
       "2018-12-16   74.10\n",
       "2018-12-17   74.64\n",
       "2018-12-19   84.50\n",
       "2018-12-29  117.32"
      ]
     },
     "execution_count": 8,
     "metadata": {},
     "output_type": "execute_result"
    }
   ],
   "source": [
    "df.tail()"
   ]
  },
  {
   "cell_type": "code",
   "execution_count": 11,
   "metadata": {},
   "outputs": [
    {
     "data": {
      "text/html": [
       "<div>\n",
       "<style scoped>\n",
       "    .dataframe tbody tr th:only-of-type {\n",
       "        vertical-align: middle;\n",
       "    }\n",
       "\n",
       "    .dataframe tbody tr th {\n",
       "        vertical-align: top;\n",
       "    }\n",
       "\n",
       "    .dataframe thead th {\n",
       "        text-align: right;\n",
       "    }\n",
       "</style>\n",
       "<table border=\"1\" class=\"dataframe\">\n",
       "  <thead>\n",
       "    <tr style=\"text-align: right;\">\n",
       "      <th></th>\n",
       "      <th>S_3</th>\n",
       "      <th>S_9</th>\n",
       "    </tr>\n",
       "    <tr>\n",
       "      <th>Date</th>\n",
       "      <th></th>\n",
       "      <th></th>\n",
       "    </tr>\n",
       "  </thead>\n",
       "  <tbody>\n",
       "    <tr>\n",
       "      <th>2018-12-15</th>\n",
       "      <td>79.493333</td>\n",
       "      <td>92.981111</td>\n",
       "    </tr>\n",
       "    <tr>\n",
       "      <th>2018-12-16</th>\n",
       "      <td>76.936667</td>\n",
       "      <td>88.885556</td>\n",
       "    </tr>\n",
       "    <tr>\n",
       "      <th>2018-12-17</th>\n",
       "      <td>75.233333</td>\n",
       "      <td>85.051111</td>\n",
       "    </tr>\n",
       "    <tr>\n",
       "      <th>2018-12-19</th>\n",
       "      <td>74.270000</td>\n",
       "      <td>82.173333</td>\n",
       "    </tr>\n",
       "    <tr>\n",
       "      <th>2018-12-29</th>\n",
       "      <td>77.746667</td>\n",
       "      <td>81.335556</td>\n",
       "    </tr>\n",
       "  </tbody>\n",
       "</table>\n",
       "</div>"
      ],
      "text/plain": [
       "                  S_3        S_9\n",
       "Date                            \n",
       "2018-12-15  79.493333  92.981111\n",
       "2018-12-16  76.936667  88.885556\n",
       "2018-12-17  75.233333  85.051111\n",
       "2018-12-19  74.270000  82.173333\n",
       "2018-12-29  77.746667  81.335556"
      ]
     },
     "execution_count": 11,
     "metadata": {},
     "output_type": "execute_result"
    }
   ],
   "source": [
    "df['S_3'] = df['Open'].shift(1).rolling(window=3).mean() \n",
    "\n",
    "df['S_9']= df['Open'].shift(1).rolling(window=9).mean() \n",
    "\n",
    "df= df.dropna() \n",
    "\n",
    "X = df[['S_3','S_9']] \n",
    "\n",
    "X.tail()"
   ]
  },
  {
   "cell_type": "code",
   "execution_count": 12,
   "metadata": {},
   "outputs": [
    {
     "data": {
      "text/plain": [
       "Date\n",
       "2017-06-17    312.45\n",
       "2017-06-18    326.67\n",
       "2017-06-19    311.00\n",
       "2017-06-20    319.33\n",
       "2017-06-21    316.09\n",
       "Name: Open, dtype: float64"
      ]
     },
     "execution_count": 12,
     "metadata": {},
     "output_type": "execute_result"
    }
   ],
   "source": [
    "y = df['Open']\n",
    "\n",
    "y.head()"
   ]
  },
  {
   "cell_type": "code",
   "execution_count": 13,
   "metadata": {},
   "outputs": [],
   "source": [
    "t=.8 \n",
    "\n",
    "t = int(t*len(df)) \n",
    "\n",
    "# Train dataset \n",
    "\n",
    "X_train = X[:t] \n",
    "\n",
    "y_train = y[:t]  \n",
    "\n",
    "# Test dataset \n",
    "\n",
    "X_test = X[t:] \n",
    "\n",
    "y_test = y[t:]"
   ]
  },
  {
   "cell_type": "code",
   "execution_count": 14,
   "metadata": {},
   "outputs": [],
   "source": [
    "linear = LinearRegression().fit(X_train,y_train) "
   ]
  },
  {
   "cell_type": "code",
   "execution_count": 15,
   "metadata": {},
   "outputs": [
    {
     "data": {
      "image/png": "[encoded data removed]",
      "text/plain": [
       "<Figure size 720x360 with 1 Axes>"
      ]
     },
     "metadata": {
      "needs_background": "light"
     },
     "output_type": "display_data"
    }
   ],
   "source": [
    "predicted_price = linear.predict(X_test)  \n",
    "\n",
    "predicted_price = pd.DataFrame(predicted_price,index=y_test.index,columns = ['price'])  \n",
    "\n",
    "predicted_price.plot(figsize=(10,5))  \n",
    "\n",
    "y_test.plot()  \n",
    "\n",
    "plt.legend(['predicted_price','actual_price'])  \n",
    "\n",
    "plt.ylabel(\"Price\")  \n",
    "\n",
    "plt.show()"
   ]
  },
  {
   "cell_type": "code",
   "execution_count": 16,
   "metadata": {},
   "outputs": [],
   "source": [
    "pred = predicted_price.head(60)"
   ]
  },
  {
   "cell_type": "code",
   "execution_count": 17,
   "metadata": {},
   "outputs": [
    {
     "data": {
      "text/html": [
       "<div>\n",
       "<style scoped>\n",
       "    .dataframe tbody tr th:only-of-type {\n",
       "        vertical-align: middle;\n",
       "    }\n",
       "\n",
       "    .dataframe tbody tr th {\n",
       "        vertical-align: top;\n",
       "    }\n",
       "\n",
       "    .dataframe thead th {\n",
       "        text-align: right;\n",
       "    }\n",
       "</style>\n",
       "<table border=\"1\" class=\"dataframe\">\n",
       "  <thead>\n",
       "    <tr style=\"text-align: right;\">\n",
       "      <th></th>\n",
       "      <th>price</th>\n",
       "    </tr>\n",
       "    <tr>\n",
       "      <th>Date</th>\n",
       "      <th></th>\n",
       "    </tr>\n",
       "  </thead>\n",
       "  <tbody>\n",
       "    <tr>\n",
       "      <th>2018-07-06</th>\n",
       "      <td>407.856974</td>\n",
       "    </tr>\n",
       "    <tr>\n",
       "      <th>2018-07-07</th>\n",
       "      <td>402.264791</td>\n",
       "    </tr>\n",
       "    <tr>\n",
       "      <th>2018-07-09</th>\n",
       "      <td>402.675301</td>\n",
       "    </tr>\n",
       "    <tr>\n",
       "      <th>2018-07-10</th>\n",
       "      <td>408.496628</td>\n",
       "    </tr>\n",
       "    <tr>\n",
       "      <th>2018-07-11</th>\n",
       "      <td>410.907484</td>\n",
       "    </tr>\n",
       "    <tr>\n",
       "      <th>2018-07-13</th>\n",
       "      <td>400.899793</td>\n",
       "    </tr>\n",
       "    <tr>\n",
       "      <th>2018-07-14</th>\n",
       "      <td>380.194206</td>\n",
       "    </tr>\n",
       "    <tr>\n",
       "      <th>2018-07-15</th>\n",
       "      <td>365.628127</td>\n",
       "    </tr>\n",
       "    <tr>\n",
       "      <th>2018-07-16</th>\n",
       "      <td>365.644099</td>\n",
       "    </tr>\n",
       "    <tr>\n",
       "      <th>2018-07-17</th>\n",
       "      <td>374.047349</td>\n",
       "    </tr>\n",
       "    <tr>\n",
       "      <th>2018-07-18</th>\n",
       "      <td>388.591694</td>\n",
       "    </tr>\n",
       "    <tr>\n",
       "      <th>2018-07-19</th>\n",
       "      <td>411.013318</td>\n",
       "    </tr>\n",
       "    <tr>\n",
       "      <th>2018-07-20</th>\n",
       "      <td>422.656611</td>\n",
       "    </tr>\n",
       "    <tr>\n",
       "      <th>2018-07-21</th>\n",
       "      <td>421.707438</td>\n",
       "    </tr>\n",
       "    <tr>\n",
       "      <th>2018-07-23</th>\n",
       "      <td>403.027509</td>\n",
       "    </tr>\n",
       "    <tr>\n",
       "      <th>2018-07-24</th>\n",
       "      <td>393.658518</td>\n",
       "    </tr>\n",
       "    <tr>\n",
       "      <th>2018-07-25</th>\n",
       "      <td>386.113885</td>\n",
       "    </tr>\n",
       "    <tr>\n",
       "      <th>2018-07-27</th>\n",
       "      <td>395.086749</td>\n",
       "    </tr>\n",
       "    <tr>\n",
       "      <th>2018-07-28</th>\n",
       "      <td>397.288985</td>\n",
       "    </tr>\n",
       "    <tr>\n",
       "      <th>2018-07-29</th>\n",
       "      <td>405.112304</td>\n",
       "    </tr>\n",
       "    <tr>\n",
       "      <th>2018-07-30</th>\n",
       "      <td>402.838952</td>\n",
       "    </tr>\n",
       "    <tr>\n",
       "      <th>2018-07-31</th>\n",
       "      <td>403.877624</td>\n",
       "    </tr>\n",
       "    <tr>\n",
       "      <th>2018-08-01</th>\n",
       "      <td>398.066156</td>\n",
       "    </tr>\n",
       "    <tr>\n",
       "      <th>2018-08-02</th>\n",
       "      <td>385.302450</td>\n",
       "    </tr>\n",
       "    <tr>\n",
       "      <th>2018-08-03</th>\n",
       "      <td>369.948112</td>\n",
       "    </tr>\n",
       "    <tr>\n",
       "      <th>2018-08-04</th>\n",
       "      <td>356.693109</td>\n",
       "    </tr>\n",
       "    <tr>\n",
       "      <th>2018-08-05</th>\n",
       "      <td>354.813674</td>\n",
       "    </tr>\n",
       "    <tr>\n",
       "      <th>2018-08-06</th>\n",
       "      <td>352.586704</td>\n",
       "    </tr>\n",
       "    <tr>\n",
       "      <th>2018-08-08</th>\n",
       "      <td>353.745145</td>\n",
       "    </tr>\n",
       "    <tr>\n",
       "      <th>2018-08-13</th>\n",
       "      <td>342.206499</td>\n",
       "    </tr>\n",
       "  </tbody>\n",
       "</table>\n",
       "</div>"
      ],
      "text/plain": [
       "                 price\n",
       "Date                  \n",
       "2018-07-06  407.856974\n",
       "2018-07-07  402.264791\n",
       "2018-07-09  402.675301\n",
       "2018-07-10  408.496628\n",
       "2018-07-11  410.907484\n",
       "2018-07-13  400.899793\n",
       "2018-07-14  380.194206\n",
       "2018-07-15  365.628127\n",
       "2018-07-16  365.644099\n",
       "2018-07-17  374.047349\n",
       "2018-07-18  388.591694\n",
       "2018-07-19  411.013318\n",
       "2018-07-20  422.656611\n",
       "2018-07-21  421.707438\n",
       "2018-07-23  403.027509\n",
       "2018-07-24  393.658518\n",
       "2018-07-25  386.113885\n",
       "2018-07-27  395.086749\n",
       "2018-07-28  397.288985\n",
       "2018-07-29  405.112304\n",
       "2018-07-30  402.838952\n",
       "2018-07-31  403.877624\n",
       "2018-08-01  398.066156\n",
       "2018-08-02  385.302450\n",
       "2018-08-03  369.948112\n",
       "2018-08-04  356.693109\n",
       "2018-08-05  354.813674\n",
       "2018-08-06  352.586704\n",
       "2018-08-08  353.745145\n",
       "2018-08-13  342.206499"
      ]
     },
     "execution_count": 17,
     "metadata": {},
     "output_type": "execute_result"
    }
   ],
   "source": [
    "pred.head(30)"
   ]
  },
  {
   "cell_type": "code",
   "execution_count": 18,
   "metadata": {},
   "outputs": [],
   "source": [
    "asli = y_test.head(60)"
   ]
  },
  {
   "cell_type": "code",
   "execution_count": 19,
   "metadata": {},
   "outputs": [
    {
     "data": {
      "text/plain": [
       "Date\n",
       "2018-07-06    399.82\n",
       "2018-07-07    398.79\n",
       "2018-07-09    416.84\n",
       "2018-07-10    408.21\n",
       "2018-07-11    374.31\n",
       "2018-07-13    365.69\n",
       "2018-07-14    370.36\n",
       "2018-07-15    372.60\n",
       "2018-07-16    384.70\n",
       "2018-07-17    405.56\n",
       "2018-07-18    428.39\n",
       "2018-07-19    412.20\n",
       "2018-07-20    402.90\n",
       "2018-07-21    384.47\n",
       "2018-07-23    391.71\n",
       "2018-07-24    386.01\n",
       "2018-07-25    408.57\n",
       "2018-07-27    397.95\n",
       "2018-07-28    404.65\n",
       "2018-07-29    401.13\n",
       "2018-07-30    399.50\n",
       "2018-07-31    389.79\n",
       "2018-08-01    369.51\n",
       "2018-08-02    360.49\n",
       "2018-08-03    355.88\n",
       "2018-08-04    361.56\n",
       "2018-08-05    351.77\n",
       "2018-08-06    355.00\n",
       "2018-08-08    328.64\n",
       "2018-08-13    281.28\n",
       "Name: Open, dtype: float64"
      ]
     },
     "execution_count": 19,
     "metadata": {},
     "output_type": "execute_result"
    }
   ],
   "source": [
    "asli.head(30)"
   ]
  },
  {
   "cell_type": "code",
   "execution_count": 20,
   "metadata": {},
   "outputs": [
    {
     "name": "stdout",
     "output_type": "stream",
     "text": [
      "60\n"
     ]
    }
   ],
   "source": [
    "pnjng = len(pred)\n",
    "print(pnjng)"
   ]
  },
  {
   "cell_type": "code",
   "execution_count": 21,
   "metadata": {},
   "outputs": [
    {
     "name": "stdout",
     "output_type": "stream",
     "text": [
      "30\n"
     ]
    }
   ],
   "source": [
    "pnjng1 = pnjng//2\n",
    "print(pnjng1)"
   ]
  },
  {
   "cell_type": "code",
   "execution_count": 22,
   "metadata": {},
   "outputs": [
    {
     "name": "stdout",
     "output_type": "stream",
     "text": [
      "Transaksi 0\n",
      "harga =  399.82 pred =  [407.85697376] uang =  0 saham =  2501.125506477915\n",
      "====================================================================\n",
      "Transaksi 1\n",
      "harga =  398.79 pred =  [402.26479142] uang =  0 saham =  2501.125506477915\n",
      "====================================================================\n",
      "Transaksi 2\n",
      "harga =  416.84 pred =  [402.6753013] uang =  0 saham =  2501.125506477915\n",
      "====================================================================\n",
      "Transaksi 3\n",
      "harga =  408.21 pred =  [408.49662768] uang =  1042569.1561202541 saham =  0\n",
      "====================================================================\n",
      "Transaksi 4\n",
      "harga =  374.31 pred =  [410.90748438] uang =  0 saham =  2785.3093855901634\n",
      "====================================================================\n",
      "Transaksi 5\n",
      "harga =  365.69 pred =  [400.89979332] uang =  0 saham =  2785.3093855901634\n",
      "====================================================================\n",
      "Transaksi 6\n",
      "harga =  370.36 pred =  [380.19420629] uang =  0 saham =  2785.3093855901634\n",
      "====================================================================\n",
      "Transaksi 7\n",
      "harga =  372.6 pred =  [365.6281267] uang =  0 saham =  2785.3093855901634\n",
      "====================================================================\n",
      "Transaksi 8\n",
      "harga =  384.7 pred =  [365.64409862] uang =  0 saham =  2785.3093855901634\n",
      "====================================================================\n",
      "Transaksi 9\n",
      "harga =  405.56 pred =  [374.04734934] uang =  0 saham =  2785.3093855901634\n",
      "====================================================================\n",
      "Transaksi 10\n",
      "harga =  428.39 pred =  [388.59169373] uang =  0 saham =  2785.3093855901634\n",
      "====================================================================\n",
      "Transaksi 11\n",
      "harga =  412.2 pred =  [411.01331781] uang =  0 saham =  2785.3093855901634\n",
      "====================================================================\n",
      "Transaksi 12\n",
      "harga =  402.9 pred =  [422.65661058] uang =  1148104.5287402654 saham =  0\n",
      "====================================================================\n",
      "Transaksi 13\n",
      "harga =  384.47 pred =  [421.7074381] uang =  0 saham =  2986.2005585358165\n",
      "====================================================================\n",
      "Transaksi 14\n",
      "harga =  391.71 pred =  [403.02750931] uang =  0 saham =  2986.2005585358165\n",
      "====================================================================\n",
      "Transaksi 15\n",
      "harga =  386.01 pred =  [393.65851796] uang =  0 saham =  2986.2005585358165\n",
      "====================================================================\n",
      "Transaksi 16\n",
      "harga =  408.57 pred =  [386.1138845] uang =  0 saham =  2986.2005585358165\n",
      "====================================================================\n",
      "Transaksi 17\n",
      "harga =  397.95 pred =  [395.08674883] uang =  0 saham =  2986.2005585358165\n",
      "====================================================================\n",
      "Transaksi 18\n",
      "harga =  404.65 pred =  [397.28898458] uang =  0 saham =  2986.2005585358165\n",
      "====================================================================\n",
      "Transaksi 19\n",
      "harga =  401.13 pred =  [405.11230397] uang =  1208366.056011518 saham =  0\n",
      "====================================================================\n",
      "Transaksi 20\n",
      "harga =  399.5 pred =  [402.83895163] uang =  0 saham =  3024.6960100413467\n",
      "====================================================================\n",
      "Transaksi 21\n",
      "harga =  389.79 pred =  [403.8776237] uang =  0 saham =  3024.6960100413467\n",
      "====================================================================\n",
      "Transaksi 22\n",
      "harga =  369.51 pred =  [398.06615628] uang =  0 saham =  3024.6960100413467\n",
      "====================================================================\n",
      "Transaksi 23\n",
      "harga =  360.49 pred =  [385.30244957] uang =  0 saham =  3024.6960100413467\n",
      "====================================================================\n",
      "Transaksi 24\n",
      "harga =  355.88 pred =  [369.94811205] uang =  0 saham =  3024.6960100413467\n",
      "====================================================================\n",
      "Transaksi 25\n",
      "harga =  361.56 pred =  [356.6931088] uang =  0 saham =  3024.6960100413467\n",
      "====================================================================\n",
      "Transaksi 26\n",
      "harga =  351.77 pred =  [354.81367439] uang =  1093609.0893905493 saham =  0\n",
      "====================================================================\n",
      "Transaksi 27\n",
      "harga =  355.0 pred =  [352.58670421] uang =  0 saham =  3080.5889841987305\n",
      "====================================================================\n",
      "Transaksi 28\n",
      "harga =  328.64 pred =  [353.74514472] uang =  1093609.0893905493 saham =  0\n",
      "====================================================================\n",
      "Transaksi 29\n",
      "harga =  281.28 pred =  [342.20649852] uang =  0 saham =  3887.9731562519532\n",
      "====================================================================\n"
     ]
    }
   ],
   "source": [
    "a = asli.values\n",
    "p = pred.values\n",
    "uang = []\n",
    "saham = []\n",
    "modal = 1000000\n",
    "for i in range(pnjng1):    \n",
    "    print(\"Transaksi\", i)\n",
    "    if i<1:\n",
    "        uang.append(0)\n",
    "        u = uang[i]\n",
    "        beli_saham = modal/a[i]\n",
    "        saham.append(beli_saham)\n",
    "    else:\n",
    "        if a[i-1]>p[(i-1)] and a[i]<p[i]:\n",
    "            jual_saham = saham[i-1]*a[i-1] \n",
    "            uang.append(jual_saham)\n",
    "            saham.append(0)\n",
    "            beli_saham = uang[i]/a[i+1]\n",
    "            \n",
    "                \n",
    "        else:\n",
    "            uang.append(0)\n",
    "            saham.append(beli_saham)\n",
    "    print(\"harga = \", a[i], \"pred = \",p[i], \"uang = \", uang[i], \"saham = \", saham[i])\n",
    "    print(\"====================================================================\")"
   ]
  },
  {
   "cell_type": "code",
   "execution_count": 24,
   "metadata": {},
   "outputs": [
    {
     "name": "stdout",
     "output_type": "stream",
     "text": [
      "price =  281.28 pred =  [342.20649852] M =  0 S =  3887.9731562519532\n",
      "========================================\n",
      "Profit 93609.08939054934\n"
     ]
    }
   ],
   "source": [
    "print(\"price = \", a[pnjng1-1], \"pred = \",p[pnjng1-1], \"M = \", uang[pnjng1-1], \"S = \", saham[pnjng1-1])\n",
    "print(\"========================================\")\n",
    "print(\"Profit\", (a[pnjng1-1]*saham[pnjng1-1])-modal )"
   ]
  },
  {
   "cell_type": "code",
   "execution_count": null,
   "metadata": {},
   "outputs": [],
   "source": []
  },
  {
   "cell_type": "code",
   "execution_count": null,
   "metadata": {},
   "outputs": [],
   "source": []
  }
 ],
 "metadata": {
  "kernelspec": {
   "display_name": "Python 3",
   "language": "python",
   "name": "python3"
  },
  "language_info": {
   "codemirror_mode": {
    "name": "ipython",
    "version": 3
   },
   "file_extension": ".py",
   "mimetype": "text/x-python",
   "name": "python",
   "nbconvert_exporter": "python",
   "pygments_lexer": "ipython3",
   "version": "3.6.6"
  }
 },
 "nbformat": 4,
 "nbformat_minor": 2
}
